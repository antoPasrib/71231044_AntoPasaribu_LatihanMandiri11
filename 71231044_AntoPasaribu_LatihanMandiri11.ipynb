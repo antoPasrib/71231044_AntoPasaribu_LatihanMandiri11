{
 "cells": [
  {
   "cell_type": "code",
   "execution_count": 1,
   "id": "7d627bfd",
   "metadata": {},
   "outputs": [
    {
     "name": "stdout",
     "output_type": "stream",
     "text": [
      "key  value  item\n",
      "1    10     1\n",
      "2    20     2\n",
      "3    30     3\n",
      "4    40     4\n",
      "5    50     5\n",
      "6    60     6\n"
     ]
    }
   ],
   "source": [
    "data = {1: 10, 2: 20, 3: 30, 4: 40, 5: 50, 6: 60}\n",
    "print(\"key  value  item\")\n",
    "for key in data:\n",
    "    value = data[key]   \n",
    "    item = key          \n",
    "    print(key, \"  \", value, \"   \", item)"
   ]
  },
  {
   "cell_type": "code",
   "execution_count": 1,
   "id": "b4bcbcdb",
   "metadata": {},
   "outputs": [
    {
     "name": "stdout",
     "output_type": "stream",
     "text": [
      "{'red': '#FF0000', 'green': '#008000', 'blue': '#0000FF'}\n"
     ]
    }
   ],
   "source": [
    "lista = ['red', 'green', 'blue']\n",
    "listb = ['#FF0000', '#008000', '#0000FF']\n",
    "hasil = dict(zip(lista, listb))\n",
    "print(hasil)"
   ]
  },
  {
   "cell_type": "code",
   "execution_count": 2,
   "id": "9136bd05",
   "metadata": {},
   "outputs": [
    {
     "name": "stdout",
     "output_type": "stream",
     "text": [
      "Masukkan nama file: mbox-short.txt\n",
      "{'stephen.marquard@uct.ac.za': 2, 'louis@media.berkeley.edu': 3, 'zqian@umich.edu': 4, 'rjlowe@iupui.edu': 2, 'cwen@iupui.edu': 5, 'gsilver@umich.edu': 3, 'wagnermr@iupui.edu': 1, 'antranig@caret.cam.ac.uk': 1, 'gopal.ramasammycook@gmail.com': 1, 'david.horwitz@uct.ac.za': 4, 'ray@media.berkeley.edu': 1}\n"
     ]
    }
   ],
   "source": [
    "nama_file = input(\"Masukkan nama file: \")\n",
    "\n",
    "try:\n",
    "    file = open(nama_file)\n",
    "except:\n",
    "    print(\"Maaf, file tidak ditemukan.\")\n",
    "    quit()\n",
    "\n",
    "jumlah_email = {}\n",
    "\n",
    "for baris in file:\n",
    "    if baris.startswith(\"From \"):\n",
    "        bagian = baris.split()       \n",
    "        email = bagian[1]            \n",
    "        \n",
    "        # Tambah hitungan untuk email tersebut\n",
    "        if email in jumlah_email:\n",
    "            jumlah_email[email] += 1\n",
    "        else:\n",
    "            jumlah_email[email] = 1\n",
    "\n",
    "print(jumlah_email)"
   ]
  },
  {
   "cell_type": "code",
   "execution_count": 3,
   "id": "1697f90a",
   "metadata": {},
   "outputs": [
    {
     "name": "stdout",
     "output_type": "stream",
     "text": [
      "Masukkan nama file: mbox-short.txt\n",
      "{'uct.ac.za': 6, 'media.berkeley.edu': 4, 'umich.edu': 7, 'iupui.edu': 8, 'caret.cam.ac.uk': 1, 'gmail.com': 1}\n"
     ]
    }
   ],
   "source": [
    "nama_file = input(\"Masukkan nama file: \")\n",
    "\n",
    "try:\n",
    "    file = open(nama_file)\n",
    "except:\n",
    "    print(\"File tidak bisa dibuka.\")\n",
    "    quit()\n",
    "\n",
    "daftar_domain = {}\n",
    "\n",
    "for baris in file:\n",
    "    if baris.startswith(\"From \"):\n",
    "        kata = baris.split()           \n",
    "        email = kata[1]                \n",
    "        bagian = email.split(\"@\")      \n",
    "        domain = bagian[1]             \n",
    "\n",
    "        # Tambahkan domain ke dictionary\n",
    "        if domain in daftar_domain:\n",
    "            daftar_domain[domain] += 1\n",
    "        else:\n",
    "            daftar_domain[domain] = 1\n",
    "\n",
    "print(daftar_domain)"
   ]
  },
  {
   "cell_type": "code",
   "execution_count": null,
   "id": "b82d143d",
   "metadata": {},
   "outputs": [],
   "source": []
  },
  {
   "cell_type": "code",
   "execution_count": null,
   "id": "3fa25329",
   "metadata": {},
   "outputs": [],
   "source": []
  },
  {
   "cell_type": "code",
   "execution_count": null,
   "id": "4c10db50",
   "metadata": {},
   "outputs": [],
   "source": []
  },
  {
   "cell_type": "code",
   "execution_count": null,
   "id": "d3d32fe3",
   "metadata": {},
   "outputs": [],
   "source": []
  },
  {
   "cell_type": "code",
   "execution_count": null,
   "id": "d1455e81",
   "metadata": {},
   "outputs": [],
   "source": []
  }
 ],
 "metadata": {
  "kernelspec": {
   "display_name": "Python 3 (ipykernel)",
   "language": "python",
   "name": "python3"
  },
  "language_info": {
   "codemirror_mode": {
    "name": "ipython",
    "version": 3
   },
   "file_extension": ".py",
   "mimetype": "text/x-python",
   "name": "python",
   "nbconvert_exporter": "python",
   "pygments_lexer": "ipython3",
   "version": "3.11.5"
  }
 },
 "nbformat": 4,
 "nbformat_minor": 5
}
